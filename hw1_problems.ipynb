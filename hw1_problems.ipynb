{
 "cells": [
  {
   "cell_type": "markdown",
   "id": "d117cd7a",
   "metadata": {},
   "source": [
    "# EN.553.436/646 Homework 1"
   ]
  },
  {
   "cell_type": "markdown",
   "id": "70f33c47",
   "metadata": {},
   "source": [
    "# Instructions\n",
    "- Answer in the indicated areas in the code cells below.\n",
    "- Comment your code where necessary for clarity.\n",
    "- Use default parameters for functions unless asked to do otherwise.\n",
    "- Run the given completed code cells as you read through the problems.\n",
    "- Use only modules provided in the code cells. Below we load several modules that can be used throughout:"
   ]
  },
  {
   "cell_type": "code",
   "execution_count": null,
   "id": "df805236",
   "metadata": {},
   "outputs": [],
   "source": [
    "import matplotlib.pyplot as plt\n",
    "import numpy as np\n",
    "import scipy.stats as stats"
   ]
  },
  {
   "cell_type": "markdown",
   "id": "fef36f0e",
   "metadata": {},
   "source": [
    "# Submission\n",
    "- When you have your final draft, restart the kernel and run the whole notebook from beginning to end.\n",
    "- Go to File > Print Preview. Save the Print Preview as a PDF.\n",
    "- Upload the PDF to Gradescope. This is the file that will be graded.\n",
    "- Mark the problems as you submit to Gradescope. If you do not mark a problem, your grader has permission to give you zero points.\n",
    "- Save the notebook as an IPYNB file.\n",
    "- Submit the IPYNB file in the designated section on Gradescope. This submission will not be graded. It is for grader reference only. You do not have to mark any parts."
   ]
  },
  {
   "cell_type": "markdown",
   "id": "3ede0a87",
   "metadata": {},
   "source": [
    "# 1"
   ]
  },
  {
   "cell_type": "markdown",
   "id": "e84e36ef",
   "metadata": {},
   "source": [
    "Use [broadcasting](https://numpy.org/doc/stable/user/basics.broadcasting.html) in the following exercises. We define a random 3x2 ndarray:"
   ]
  },
  {
   "cell_type": "code",
   "execution_count": null,
   "id": "b4cdd162",
   "metadata": {},
   "outputs": [],
   "source": [
    "arr = np.array([[3, 7], [6, 2], [1, 4]])\n",
    "arr"
   ]
  },
  {
   "cell_type": "markdown",
   "id": "824a8630",
   "metadata": {},
   "source": [
    "## 1.1 (1 pt.)\n",
    "Normalize each column by subtracting the column mean from everu column entry and dividing the difference by the column standard deviation. Return the result."
   ]
  },
  {
   "cell_type": "code",
   "execution_count": null,
   "id": "00c922ab",
   "metadata": {},
   "outputs": [],
   "source": [
    "### YOUR CODE HERE"
   ]
  },
  {
   "cell_type": "markdown",
   "id": "c7b2dcae",
   "metadata": {},
   "source": [
    "## 1.2 (3 pts.)\n",
    "Repeat the above but for the rows. Operate directly on `arr` as given and use broadcasting."
   ]
  },
  {
   "cell_type": "code",
   "execution_count": null,
   "id": "c1853851",
   "metadata": {},
   "outputs": [],
   "source": [
    "### YOUR CODE HERE"
   ]
  },
  {
   "cell_type": "markdown",
   "id": "409bccb7",
   "metadata": {},
   "source": [
    "# 2"
   ]
  },
  {
   "cell_type": "markdown",
   "id": "8d8b5c5c",
   "metadata": {},
   "source": [
    "We draw and store 1,000 simulated samples from a [cosine distribution](https://docs.scipy.org/doc/scipy/reference/generated/scipy.stats.cosine.html) with PDF defined by \n",
    "\n",
    "$$f_{\\text{Cosine}}(x) = \\frac{1}{2\\pi} (1 + \\cos(x))$$"
   ]
  },
  {
   "cell_type": "code",
   "execution_count": null,
   "id": "995b7337",
   "metadata": {},
   "outputs": [],
   "source": [
    "sample = stats.cosine.rvs(size=1000, random_state=636)"
   ]
  },
  {
   "cell_type": "markdown",
   "id": "a97779c4",
   "metadata": {},
   "source": [
    "## 2.1 (4 pts.)\n",
    "The cosine _kernel_ is defined by\n",
    "\n",
    "$$K(u) = \\frac{\\pi}{4}\\cos\\left(\\frac{\\pi}{2}u\\right) \\qquad\\text{for }\\lvert u \\rvert \\leq 1$$\n",
    "\n",
    "The cosine _kernel_ is distinct from the cosine _distribution_. But, one might guess that the cosine kernel would be good to use in density estimation for the cosine distribution, since both the distribution and the kernel involve cosine function.\n",
    "\n",
    "Define a cosine KDE function and run the cell below to plot cosine KDEs of varying bandwidths against the actual PDF of the cosine distribution."
   ]
  },
  {
   "cell_type": "code",
   "execution_count": null,
   "id": "641610c4",
   "metadata": {},
   "outputs": [],
   "source": [
    "### Define the KDE function kde(x, sample, bw) below.\n",
    "# kde: Name of function.\n",
    "# x: Array of points on which to evaluate the KDE.\n",
    "# sample: Array of sample points on which the KDE is based.\n",
    "# bw: Bandwidth.\n",
    "# Return value: An array of density estimate values for x.\n",
    "\n",
    "### YOUR CODE HERE.\n",
    "\n",
    "\n",
    "### Run after making previous definition.\n",
    "\n",
    "bw_list = [0.1, 1.0, 2.0, 5.0]\n",
    "x = np.linspace(-np.pi, np.pi, 100)\n",
    "plt.plot(x, stats.cosine.pdf(x), linewidth=5)\n",
    "for bw in bw_list:\n",
    "    est = kde(x, sample, bw);\n",
    "    plt.plot(x, est)\n",
    "    \n",
    "plt.xlabel('x')\n",
    "plt.ylabel('Density')\n",
    "plt.title(\"Cosine Kernel Density Estimation\")\n",
    "plt.legend(['Actual PDF','KDE bw = 0.1','KDE bw = 1.0','KDE bw = 2.0','KDE bw = 5.0'])\n",
    "plt.show()"
   ]
  },
  {
   "cell_type": "markdown",
   "id": "d4a3ac21",
   "metadata": {},
   "source": [
    "# 3"
   ]
  },
  {
   "cell_type": "markdown",
   "id": "57c062b8",
   "metadata": {},
   "source": [
    "## 3.1 (6 pts.)\n",
    "\n",
    "The $\\text{Gamma}(a, \\lambda)$ distribution is defined by the PDF\n",
    "\n",
    "$$f_{\\text{Gamma}}(t) = \\frac{\\lambda^{a}t^{a-1}e^{-\\lambda t}}{\\Gamma(a)}$$\n",
    "\n",
    "where $$\\Gamma(a) = \\int_{0}^{\\infty} z^{a-1} e^{-z}\\, dz$$\n",
    "\n",
    "The $\\text{Expon}(\\lambda)$ distribution is defined by the PDF\n",
    "\n",
    "$$f_{\\text{Expon}}(t) = \\lambda e^{-\\lambda t}$$\n",
    "\n",
    "It is an interesting fact that if\n",
    "\n",
    "$$X_1, X_2, \\ldots, X_a \\sim \\text{Expon}(\\lambda)$$\n",
    "\n",
    "then \n",
    "\n",
    "$$X = \\sum_{i=1}^a X_i \\sim \\text{Gamma}(a, \\lambda)$$\n",
    "\n",
    "Using this fact, if we want to sample from a $\\text{Gamma}(a, \\lambda)$ distribution, we can sum up $a$ samples from an $\\text{Expon}(\\lambda)$ distribution. A sampling algorithm that uses this fact along with the inverse transform method is as follows:\n",
    "\n",
    "For $k=1, 2, \\ldots, n$:\n",
    "1. Sample $a$ times individualy from a uniform distribution to get samples $u_{k1}, u_{k2}, \\ldots, u_{ka}$\n",
    "2. Derive a size $a$ $\\text{Expon}(\\lambda)$ sample $x_{k1}, x_{k2}, \\ldots, x_{ka}$ using the inverse transform method.\n",
    "3. Sum up the $\\text{Expon}(\\lambda)$ sample values to get a $\\text{Gamma}(a, \\lambda)$ sample value $x_{k} = \\sum_{i=1}^a x_{ki}$.\n",
    "\n",
    "Implement this algorithm below to draw 5000 samples from a gamma distribution with $a=5$ and $\\lambda=15$. For the inverse transform step, note that the $\\text{Expon}(\\lambda)$ CDF is $F_{\\text{Expon}}(t) = 1 - \\exp(-\\lambda t)$."
   ]
  },
  {
   "cell_type": "code",
   "execution_count": null,
   "id": "d4426ddd",
   "metadata": {
    "scrolled": true
   },
   "outputs": [],
   "source": [
    "# Parameters for the gamma distribution.\n",
    "a = 5\n",
    "lam = 15\n",
    "\n",
    "### Implement the sampling algorithm here.\n",
    "# Store the samples in this variable.\n",
    "samples = []\n",
    "\n",
    "### YOUR CODE HERE.\n",
    "\n",
    "\n",
    "# Run the code below when finished.\n",
    "plt.hist(samples, density=True, bins=100)\n",
    "\n",
    "x = np.linspace(stats.gamma.ppf(0.01, a=a, scale=1/lam), stats.gamma.ppf(0.99, a=a, scale=1/lam), 100)\n",
    "plt.plot(x, stats.gamma.pdf(x, a=a, scale=1/lam),'r-', lw=5, alpha=0.6, label='Gamma PDF')\n",
    "plt.show()"
   ]
  },
  {
   "cell_type": "markdown",
   "id": "10b71641",
   "metadata": {},
   "source": [
    "# 4"
   ]
  },
  {
   "cell_type": "markdown",
   "id": "f47ac0d7",
   "metadata": {},
   "source": [
    "We load the [`diabetes`](https://www4.stat.ncsu.edu/~boos/var.select/diabetes.html) dataset into an ndarray. Read the description of the dataset to understand the meaning of its columns."
   ]
  },
  {
   "cell_type": "code",
   "execution_count": null,
   "id": "d2f39835",
   "metadata": {},
   "outputs": [],
   "source": [
    "diab = np.loadtxt(\"https://www4.stat.ncsu.edu/~boos/var.select/diabetes.tab.txt\", skiprows=1)\n",
    "diab.shape"
   ]
  },
  {
   "cell_type": "markdown",
   "id": "911cab36",
   "metadata": {},
   "source": [
    " Our goal is to predict `Y`, which is a quantitative measure of diabetes progression one year after baseline. We split the dataset into a training and test dataset. The training dataset will be the one on which we train our models, and the test dataset will be the one on which we test our models."
   ]
  },
  {
   "cell_type": "code",
   "execution_count": null,
   "id": "d888ae27",
   "metadata": {},
   "outputs": [],
   "source": [
    "np.random.seed(436)\n",
    "np.random.shuffle(diab)\n",
    "train, test = diab[:295,:], diab[295:,:]"
   ]
  },
  {
   "cell_type": "markdown",
   "id": "771d1654",
   "metadata": {},
   "source": [
    "# 4.1 (6 pts.)\n",
    "Return the coefficients of a linear model, with intercept, fit to the training dataset, using `AGE`, `SEX`, and `BMI` to predict `Y`. Implement the coefficient calculation procedure yourself using formulae from lecture. \n",
    "\n",
    "For reference, below are the coefficients give by the linear regression routine of the machine learning module [`sklearn`](https://scikit-learn.org/stable/index.html). Check your answer against this output. Note that your answer may differ in trailing significant digits due to differences in how `sklearn` implements computer arithmetic."
   ]
  },
  {
   "cell_type": "code",
   "execution_count": null,
   "id": "15dc15c1",
   "metadata": {
    "scrolled": true
   },
   "outputs": [],
   "source": [
    "from sklearn.linear_model import LinearRegression\n",
    "reg = LinearRegression(fit_intercept=True).fit(train[:,:3], train[:,10])\n",
    "print('Predictor Coefficients\\n', reg.coef_)\n",
    "print('Intercept\\n', reg.intercept_)"
   ]
  },
  {
   "cell_type": "code",
   "execution_count": null,
   "id": "fdc25259",
   "metadata": {},
   "outputs": [],
   "source": [
    "### YOUR CODE HERE."
   ]
  }
 ],
 "metadata": {
  "kernelspec": {
   "display_name": "Python 3 (ipykernel)",
   "language": "python",
   "name": "python3"
  },
  "language_info": {
   "codemirror_mode": {
    "name": "ipython",
    "version": 3
   },
   "file_extension": ".py",
   "mimetype": "text/x-python",
   "name": "python",
   "nbconvert_exporter": "python",
   "pygments_lexer": "ipython3",
   "version": "3.8.10"
  }
 },
 "nbformat": 4,
 "nbformat_minor": 5
}
